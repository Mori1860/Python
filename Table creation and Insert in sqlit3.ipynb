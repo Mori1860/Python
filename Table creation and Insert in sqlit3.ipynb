{
 "cells": [
  {
   "cell_type": "code",
   "execution_count": null,
   "id": "7914d994-e7d5-48fc-9e63-645c2b5bf9c6",
   "metadata": {},
   "outputs": [],
   "source": [
    "import sqlite3\n",
    "\n",
    "conn = sqlite3.connect('products.db')\n",
    "cursor = conn.cursor()\n",
    "create_table_query = '''CREATE TABLE IF NOT EXISTS store (\n",
    "                            name TEXT PRIMARY KEY\n",
    "                        );'''\n",
    "\n",
    "cursor.execute(create_table_query)\n",
    "conn.commit()\n",
    "conn.close()"
   ]
  },
  {
   "cell_type": "code",
   "execution_count": null,
   "id": "86bcebe0-acd3-44ac-ba79-06250f148f6d",
   "metadata": {},
   "outputs": [],
   "source": [
    "conn = sqlite3.connect('products.db')\n",
    "cursor = conn.cursor()\n",
    "create_table_query = '''CREATE TABLE IF NOT EXISTS product (\n",
    "                            name TEXT, \n",
    "                            store TEXT,\n",
    "                            price FLOAT,\n",
    "                            PRIMARY KEY (name, store)\n",
    "                        );'''\n",
    "\n",
    "cursor.execute(create_table_query)\n",
    "conn.commit()\n",
    "conn.close()"
   ]
  },
  {
   "cell_type": "code",
   "execution_count": null,
   "id": "db1f66ca-23ca-4eb4-9109-00be84f4cb70",
   "metadata": {},
   "outputs": [],
   "source": [
    "conn = sqlite3.connect('products.db')\n",
    "cursor = conn.cursor()\n",
    "insert_query = \"INSERT INTO store (name) VALUES (?);\"\n",
    "store_name = 'Maxs store'\n",
    "cursor.execute(insert_query, (store_name,))\n",
    "conn.commit()\n",
    "conn.close()"
   ]
  },
  {
   "cell_type": "code",
   "execution_count": null,
   "id": "3c12fd6b-e770-4136-a37a-8ee70d8fea0d",
   "metadata": {},
   "outputs": [],
   "source": [
    "conn = sqlite3.connect('products.db')\n",
    "cursor = conn.cursor()\n",
    "insert_query = \"INSERT INTO product (name, store, price) VALUES (?, ?, ?);\"\n",
    "cursor.execute(insert_query, (\"banana\", \"Jans store\", 1.59))\n",
    "conn.commit()\n",
    "conn.close()"
   ]
  }
 ],
 "metadata": {
  "kernelspec": {
   "display_name": "Python 3 (ipykernel)",
   "language": "python",
   "name": "python3"
  },
  "language_info": {
   "codemirror_mode": {
    "name": "ipython",
    "version": 3
   },
   "file_extension": ".py",
   "mimetype": "text/x-python",
   "name": "python",
   "nbconvert_exporter": "python",
   "pygments_lexer": "ipython3",
   "version": "3.11.8"
  }
 },
 "nbformat": 4,
 "nbformat_minor": 5
}
