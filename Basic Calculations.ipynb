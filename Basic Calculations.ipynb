{
 "cells": [
  {
   "cell_type": "markdown",
   "id": "56d3d884-d9f7-476e-be24-010ea824b0e4",
   "metadata": {},
   "source": [
    "* Open questions from last lecture"
   ]
  },
  {
   "cell_type": "code",
   "execution_count": null,
   "id": "acf52866-5986-4315-b69b-8d00f5549af1",
   "metadata": {},
   "outputs": [],
   "source": [
    "#(floating point calculation)\n",
    "#Explanation: https://docs.python.org/3.8/tutorial/floatingpoint.html \n",
    "#Solution: round (function or formatting), decimal package\n",
    "\n",
    "inp_price = 10\n",
    "dis = 0.25\n",
    "dis_inp = 0.75\n",
    "Tax = 0.1\n",
    "Tax_inp = 0.9\n",
    "\n",
    "print(f'Original_Price: €{ inp_price }' )\n",
    "print(f'Discounted_Price: €{dis_inp * inp_price}')\n",
    "print(f'Tax Amount: €{(Tax * dis_inp * inp_price)}')\n",
    "print(f'Final Price: €{inp_price * dis_inp + (inp_price * dis_inp * Tax)}')"
   ]
  },
  {
   "cell_type": "code",
   "execution_count": null,
   "id": "55de4505-7110-44e8-989e-bc7f7a2f8a4f",
   "metadata": {},
   "outputs": [],
   "source": [
    "#(key-value types in dicts)\n",
    "# what types can be used as key/value? basically, there are a few restrictions on types for keys, but not for values\n",
    "# Explanation: https://realpython.com/python-dicts/ \n",
    "author_dict = {'name': 'George Orwell',\n",
    "               'language': 'English',\n",
    "               4:'test',\n",
    "              'year of birth': 1903}\n",
    "author_dict"
   ]
  },
  {
   "cell_type": "markdown",
   "id": "bde404a2-2767-48a8-b7b2-0b8ed275b9e2",
   "metadata": {},
   "source": [
    "* New material"
   ]
  },
  {
   "cell_type": "code",
   "execution_count": null,
   "id": "6f319933-8f5b-41ec-ab4d-eebe06a63555",
   "metadata": {},
   "outputs": [],
   "source": [
    "#while loop\n",
    "n = 5\n",
    "while n > 0:\n",
    "    print(n)\n",
    "    n -= 1\n",
    "else:\n",
    "    print(\"Loop finished\")\n"
   ]
  },
  {
   "cell_type": "code",
   "execution_count": null,
   "id": "6dfe2c1f-dfbb-40a9-b438-402ee6a38b0f",
   "metadata": {},
   "outputs": [],
   "source": [
    "# customer checkout at a supermarket\n",
    "\n",
    "#a list to represent the items in the customer's cart.\n",
    "cart = [\"apples\", \"bananas\", \"eggs\", \"flour\", \"detergent\"]\n",
    "\n",
    "print(\"Starting the checkout process...\")\n",
    "\n",
    "# As long as the cart is not empty, we will scan (remove) them.\n",
    "while len(cart) > 0:\n",
    "    item = cart.pop()\n",
    "    print(f\"Scanned {item}\")\n",
    "\n",
    "print(\"Checkout complete, what's your payment method?\")\n"
   ]
  },
  {
   "cell_type": "code",
   "execution_count": 1,
   "id": "ab0de17e-a705-444a-8d62-8d8d9eca480a",
   "metadata": {},
   "outputs": [
    {
     "name": "stdout",
     "output_type": "stream",
     "text": [
      "eggs: Original price 5.00 - Discounted price 4.50\n",
      "flour: Original price 3.00 - Discounted price 2.70\n",
      "butter: Original price 4.00 - Discounted price 3.60\n",
      "sugar: Original price 2.00 - Discounted price 1.80\n",
      "milk: Original price 3.00 - Discounted price 2.70\n"
     ]
    }
   ],
   "source": [
    "# a discount for all baking products in a supermarket\n",
    "product_names = [\"eggs\", \"flour\", \"butter\", \"sugar\", \"milk\"]\n",
    "products_prices = [5, 3, 4, 2, 3]  # Example product prices\n",
    "discounted_prices = []\n",
    "\n",
    "# Apply discount using a for loop\n",
    "for i in range(len(product_names)):\n",
    "    discounted_price = products_prices[i] * 0.9\n",
    "    discounted_prices.append(discounted_price)\n",
    "\n",
    "# Print results\n",
    "for i in range(len(product_names)):\n",
    "    print(f\"{product_names[i]}: Original price {products_prices[i]:.2f} - Discounted price {discounted_prices[i]:.2f}\")\n"
   ]
  },
  {
   "cell_type": "code",
   "execution_count": null,
   "id": "d8741686",
   "metadata": {},
   "outputs": [],
   "source": []
  },
  {
   "cell_type": "code",
   "execution_count": 2,
   "id": "3900f1b7-6d99-43d9-8341-b77650ff6b44",
   "metadata": {},
   "outputs": [
    {
     "name": "stdout",
     "output_type": "stream",
     "text": [
      "apple\n",
      "banana\n",
      "cherry\n",
      "Found the cherry!\n"
     ]
    }
   ],
   "source": [
    "items = [\"apple\", \"banana\", \"cherry\", \"date\", \"plum\", \"apricot\"]\n",
    "for item in items:\n",
    "    print(item)\n",
    "    if item == \"cherry\":\n",
    "        print(\"Found the cherry!\")\n",
    "        break\n"
   ]
  },
  {
   "cell_type": "code",
   "execution_count": null,
   "id": "ded8e284",
   "metadata": {},
   "outputs": [],
   "source": []
  },
  {
   "cell_type": "code",
   "execution_count": 3,
   "id": "53c9f67d-d30a-4bf0-a9b5-7fcac4039b8a",
   "metadata": {},
   "outputs": [
    {
     "name": "stdout",
     "output_type": "stream",
     "text": [
      "1\n",
      "3\n",
      "5\n"
     ]
    }
   ],
   "source": [
    "numbers = [1, -2, 3, -4, 5]\n",
    "for num in numbers:\n",
    "    if num < 0:\n",
    "        continue\n",
    "    print(num)\n"
   ]
  },
  {
   "cell_type": "code",
   "execution_count": 4,
   "id": "5457f1da-26fa-47a6-ad1c-e17fe7ac97c1",
   "metadata": {},
   "outputs": [
    {
     "name": "stdout",
     "output_type": "stream",
     "text": [
      "Help on built-in function print in module builtins:\n",
      "\n",
      "print(*args, sep=' ', end='\\n', file=None, flush=False)\n",
      "    Prints the values to a stream, or to sys.stdout by default.\n",
      "    \n",
      "    sep\n",
      "      string inserted between values, default a space.\n",
      "    end\n",
      "      string appended after the last value, default a newline.\n",
      "    file\n",
      "      a file-like object (stream); defaults to the current sys.stdout.\n",
      "    flush\n",
      "      whether to forcibly flush the stream.\n",
      "\n"
     ]
    }
   ],
   "source": [
    "help(print)"
   ]
  },
  {
   "cell_type": "code",
   "execution_count": 8,
   "id": "d1f0a3fd-abd5-4d75-827b-e0ea0afa8854",
   "metadata": {},
   "outputs": [
    {
     "data": {
      "text/plain": [
       "list"
      ]
     },
     "execution_count": 8,
     "metadata": {},
     "output_type": "execute_result"
    }
   ],
   "source": [
    "type(list(range(4)))"
   ]
  },
  {
   "cell_type": "code",
   "execution_count": 7,
   "id": "794c46f1-9f37-4827-9a0a-d53c07e92c39",
   "metadata": {},
   "outputs": [],
   "source": [
    "book_tuple = ('1984', 'George Orwell')\n",
    "book_set = {'1984', 'Animal Farm'}\n",
    "book_list = ['1984','Animal Farm', 'Down and Out in Paris and London', '1984']\n",
    "publication_years = [1949, 1945, 1933, 1949]\n",
    "author_dict = {'name': 'George Orwell',\n",
    "               'language': 'English',\n",
    "              'year of birth': 1903}"
   ]
  },
  {
   "cell_type": "code",
   "execution_count": null,
   "id": "efc22476",
   "metadata": {},
   "outputs": [],
   "source": []
  },
  {
   "cell_type": "code",
   "execution_count": 9,
   "id": "b5555801-8bdc-41a8-9228-bad7fb5f12b1",
   "metadata": {},
   "outputs": [
    {
     "data": {
      "text/plain": [
       "tuple"
      ]
     },
     "execution_count": 9,
     "metadata": {},
     "output_type": "execute_result"
    }
   ],
   "source": [
    "type(book_tuple)"
   ]
  },
  {
   "cell_type": "code",
   "execution_count": 10,
   "id": "3babf971-b528-42a3-b6b0-82f0e902423e",
   "metadata": {},
   "outputs": [
    {
     "data": {
      "text/plain": [
       "dict_keys(['name', 'language', 'year of birth'])"
      ]
     },
     "execution_count": 10,
     "metadata": {},
     "output_type": "execute_result"
    }
   ],
   "source": [
    "author_dict.keys()"
   ]
  },
  {
   "cell_type": "code",
   "execution_count": 11,
   "id": "a60dae93-31c8-4150-820d-5e62b70cf66b",
   "metadata": {},
   "outputs": [
    {
     "name": "stdout",
     "output_type": "stream",
     "text": [
      "1984\n",
      "Animal Farm\n",
      "Down and Out in Paris and London\n",
      "1984\n"
     ]
    }
   ],
   "source": [
    "for i in book_list:\n",
    "    print(i)"
   ]
  },
  {
   "cell_type": "code",
   "execution_count": 12,
   "id": "09aff108-9214-489f-b55f-cb7b37610d36",
   "metadata": {},
   "outputs": [
    {
     "name": "stdout",
     "output_type": "stream",
     "text": [
      "1\n",
      "9\n",
      "8\n",
      "4\n"
     ]
    }
   ],
   "source": [
    "for i in '1984':\n",
    "    print(i)"
   ]
  },
  {
   "cell_type": "code",
   "execution_count": 13,
   "id": "17a12afd-04cd-4be4-9e0e-241f3894a23f",
   "metadata": {},
   "outputs": [
    {
     "data": {
      "text/plain": [
       "10"
      ]
     },
     "execution_count": 13,
     "metadata": {},
     "output_type": "execute_result"
    }
   ],
   "source": [
    "i=10\n",
    "i"
   ]
  },
  {
   "cell_type": "code",
   "execution_count": 14,
   "id": "ee30cd69-c90d-43fe-bb2a-7d42aee07090",
   "metadata": {},
   "outputs": [
    {
     "data": {
      "text/plain": [
       "9"
      ]
     },
     "execution_count": 14,
     "metadata": {},
     "output_type": "execute_result"
    }
   ],
   "source": [
    "i-=1\n",
    "i"
   ]
  },
  {
   "cell_type": "code",
   "execution_count": 15,
   "id": "642200b6-f3c6-417c-83a6-d03bd2bc379e",
   "metadata": {},
   "outputs": [
    {
     "data": {
      "text/plain": [
       "27"
      ]
     },
     "execution_count": 15,
     "metadata": {},
     "output_type": "execute_result"
    }
   ],
   "source": [
    "i*=3\n",
    "i"
   ]
  },
  {
   "cell_type": "code",
   "execution_count": null,
   "id": "fac309fd-38ac-4e92-bcc8-dac018cd10fa",
   "metadata": {},
   "outputs": [],
   "source": [
    "range(45,67)\n",
    "#list(range(45,67,10))"
   ]
  },
  {
   "cell_type": "code",
   "execution_count": 16,
   "id": "8f281a3a-c3e5-4a19-8d5f-4b75415c6cc6",
   "metadata": {},
   "outputs": [
    {
     "name": "stdout",
     "output_type": "stream",
     "text": [
      "Help on class range in module builtins:\n",
      "\n",
      "class range(object)\n",
      " |  range(stop) -> range object\n",
      " |  range(start, stop[, step]) -> range object\n",
      " |  \n",
      " |  Return an object that produces a sequence of integers from start (inclusive)\n",
      " |  to stop (exclusive) by step.  range(i, j) produces i, i+1, i+2, ..., j-1.\n",
      " |  start defaults to 0, and stop is omitted!  range(4) produces 0, 1, 2, 3.\n",
      " |  These are exactly the valid indices for a list of 4 elements.\n",
      " |  When step is given, it specifies the increment (or decrement).\n",
      " |  \n",
      " |  Methods defined here:\n",
      " |  \n",
      " |  __bool__(self, /)\n",
      " |      True if self else False\n",
      " |  \n",
      " |  __contains__(self, key, /)\n",
      " |      Return key in self.\n",
      " |  \n",
      " |  __eq__(self, value, /)\n",
      " |      Return self==value.\n",
      " |  \n",
      " |  __ge__(self, value, /)\n",
      " |      Return self>=value.\n",
      " |  \n",
      " |  __getattribute__(self, name, /)\n",
      " |      Return getattr(self, name).\n",
      " |  \n",
      " |  __getitem__(self, key, /)\n",
      " |      Return self[key].\n",
      " |  \n",
      " |  __gt__(self, value, /)\n",
      " |      Return self>value.\n",
      " |  \n",
      " |  __hash__(self, /)\n",
      " |      Return hash(self).\n",
      " |  \n",
      " |  __iter__(self, /)\n",
      " |      Implement iter(self).\n",
      " |  \n",
      " |  __le__(self, value, /)\n",
      " |      Return self<=value.\n",
      " |  \n",
      " |  __len__(self, /)\n",
      " |      Return len(self).\n",
      " |  \n",
      " |  __lt__(self, value, /)\n",
      " |      Return self<value.\n",
      " |  \n",
      " |  __ne__(self, value, /)\n",
      " |      Return self!=value.\n",
      " |  \n",
      " |  __reduce__(...)\n",
      " |      Helper for pickle.\n",
      " |  \n",
      " |  __repr__(self, /)\n",
      " |      Return repr(self).\n",
      " |  \n",
      " |  __reversed__(...)\n",
      " |      Return a reverse iterator.\n",
      " |  \n",
      " |  count(...)\n",
      " |      rangeobject.count(value) -> integer -- return number of occurrences of value\n",
      " |  \n",
      " |  index(...)\n",
      " |      rangeobject.index(value) -> integer -- return index of value.\n",
      " |      Raise ValueError if the value is not present.\n",
      " |  \n",
      " |  ----------------------------------------------------------------------\n",
      " |  Static methods defined here:\n",
      " |  \n",
      " |  __new__(*args, **kwargs) from builtins.type\n",
      " |      Create and return a new object.  See help(type) for accurate signature.\n",
      " |  \n",
      " |  ----------------------------------------------------------------------\n",
      " |  Data descriptors defined here:\n",
      " |  \n",
      " |  start\n",
      " |  \n",
      " |  step\n",
      " |  \n",
      " |  stop\n",
      "\n"
     ]
    }
   ],
   "source": [
    "help(range)"
   ]
  },
  {
   "cell_type": "code",
   "execution_count": 17,
   "id": "1a75329f-5fc2-4d46-8496-fd4f457001b5",
   "metadata": {},
   "outputs": [
    {
     "name": "stdout",
     "output_type": "stream",
     "text": [
      "(0, '1984')\n",
      "<class 'tuple'>\n",
      "(1, 'Animal Farm')\n",
      "<class 'tuple'>\n",
      "(2, 'Down and Out in Paris and London')\n",
      "<class 'tuple'>\n",
      "(3, '1984')\n",
      "<class 'tuple'>\n"
     ]
    }
   ],
   "source": [
    "for item in enumerate(book_list):\n",
    "    print(item)\n",
    "    print(type(item))"
   ]
  },
  {
   "cell_type": "code",
   "execution_count": null,
   "id": "ef76a850-21ff-407d-a8f6-070de3b06065",
   "metadata": {},
   "outputs": [],
   "source": [
    "items = enumerate(book_list)\n",
    "for ind, title in items:\n",
    "    print(ind, title)"
   ]
  },
  {
   "cell_type": "code",
   "execution_count": 18,
   "id": "d44c20e4-0894-43b6-8f05-9ad4273ca530",
   "metadata": {},
   "outputs": [
    {
     "name": "stdout",
     "output_type": "stream",
     "text": [
      "0 1984\n",
      "<class 'int'> <class 'str'>\n",
      "1 Animal Farm\n",
      "<class 'int'> <class 'str'>\n",
      "2 Down and Out in Paris and London\n",
      "<class 'int'> <class 'str'>\n",
      "3 1984\n",
      "<class 'int'> <class 'str'>\n"
     ]
    }
   ],
   "source": [
    "for position, character in enumerate(book_list):\n",
    "    print(position, character)\n",
    "    print(type(position), type(character))"
   ]
  },
  {
   "cell_type": "code",
   "execution_count": null,
   "id": "c3c3029c-f8c4-4e93-a3f8-c6a1515cb5e4",
   "metadata": {},
   "outputs": [],
   "source": [
    "help(zip)"
   ]
  },
  {
   "cell_type": "code",
   "execution_count": 19,
   "id": "24fe7489-a918-48fe-a721-95a39004327b",
   "metadata": {},
   "outputs": [
    {
     "data": {
      "text/plain": [
       "{('1984', 1949),\n",
       " ('Animal Farm', 1945),\n",
       " ('Down and Out in Paris and London', 1933)}"
      ]
     },
     "execution_count": 19,
     "metadata": {},
     "output_type": "execute_result"
    }
   ],
   "source": [
    "book_year = set(zip(book_list, publication_years))\n",
    "book_year"
   ]
  },
  {
   "cell_type": "code",
   "execution_count": 20,
   "id": "db9d7c6b-5bc1-4b35-9ea6-6f5efd0866c6",
   "metadata": {},
   "outputs": [
    {
     "data": {
      "text/plain": [
       "{'name': 'George Orwell', 'language': 'English', 'year of birth': 1903}"
      ]
     },
     "execution_count": 20,
     "metadata": {},
     "output_type": "execute_result"
    }
   ],
   "source": [
    "author_dict"
   ]
  },
  {
   "cell_type": "code",
   "execution_count": 21,
   "id": "d791c726-e114-4dde-bb21-3aa55ad0e29e",
   "metadata": {},
   "outputs": [
    {
     "data": {
      "text/plain": [
       "False"
      ]
     },
     "execution_count": 21,
     "metadata": {},
     "output_type": "execute_result"
    }
   ],
   "source": [
    "'year' in author_dict.keys()\n",
    "#'year' in 'year of birth'\n"
   ]
  },
  {
   "cell_type": "code",
   "execution_count": null,
   "id": "47a9ec81-bc24-4558-80d7-beebc3e1adba",
   "metadata": {},
   "outputs": [],
   "source": [
    "#sort, min, max, only for numbers?"
   ]
  },
  {
   "cell_type": "code",
   "execution_count": 24,
   "id": "86450674-2f74-4248-b083-073ce7a61a88",
   "metadata": {},
   "outputs": [
    {
     "data": {
      "text/plain": [
       "'Charlie'"
      ]
     },
     "execution_count": 24,
     "metadata": {},
     "output_type": "execute_result"
    }
   ],
   "source": [
    "names = ['Charlie', 'charlie']\n",
    "min(names)"
   ]
  },
  {
   "cell_type": "code",
   "execution_count": 25,
   "id": "5e722161-2bd6-429b-9beb-5799bb1d3dd9",
   "metadata": {},
   "outputs": [],
   "source": [
    "from random import shuffle\n"
   ]
  },
  {
   "cell_type": "code",
   "execution_count": 23,
   "id": "f71b2d20-436e-4035-a07f-6102e9de9478",
   "metadata": {},
   "outputs": [],
   "source": [
    "publication_years\n",
    "shuffle(publication_years)"
   ]
  },
  {
   "cell_type": "code",
   "execution_count": 26,
   "id": "4e7b05b1-16ce-4bf7-8f31-f474ec5a35bb",
   "metadata": {},
   "outputs": [],
   "source": [
    "publication_years.sort()"
   ]
  },
  {
   "cell_type": "code",
   "execution_count": 27,
   "id": "784f7955-00bb-461c-8f13-13efb039cdd8",
   "metadata": {},
   "outputs": [],
   "source": [
    "from random import shuffle\n",
    "shuffle(publication_years)\n"
   ]
  },
  {
   "cell_type": "code",
   "execution_count": null,
   "id": "1cfaca10-50db-4058-81cb-d502c4bf40b7",
   "metadata": {},
   "outputs": [],
   "source": [
    "publication_years.sort()\n",
    "publication_years"
   ]
  },
  {
   "cell_type": "code",
   "execution_count": null,
   "id": "a89d0ed3-19c5-4300-b215-7be74fc1894d",
   "metadata": {},
   "outputs": [],
   "source": [
    "numbers = [23,11,76,100]\n",
    "numbers.sort()\n",
    "numbers"
   ]
  },
  {
   "cell_type": "code",
   "execution_count": null,
   "id": "8381b271-aa88-46e6-a836-780a7fa62569",
   "metadata": {},
   "outputs": [],
   "source": [
    "numbers = [23,11,76,100]\n",
    "ordered_numbers = sorted(numbers)"
   ]
  },
  {
   "cell_type": "code",
   "execution_count": null,
   "id": "e6b1f896-7efc-495f-aee9-75950ad5d74d",
   "metadata": {},
   "outputs": [],
   "source": [
    "numbers"
   ]
  },
  {
   "cell_type": "code",
   "execution_count": null,
   "id": "5f941541-5e1d-4c17-85c9-7d0edc5a2e6a",
   "metadata": {},
   "outputs": [],
   "source": [
    "ordered_numbers"
   ]
  },
  {
   "cell_type": "code",
   "execution_count": null,
   "id": "2784e114-dc68-481b-9304-bb7c172ea6de",
   "metadata": {},
   "outputs": [],
   "source": [
    "from random import randint\n",
    "v = randint(1,72)\n",
    "v"
   ]
  },
  {
   "cell_type": "code",
   "execution_count": null,
   "id": "2cf5b9ec-b6b0-4b44-921d-33ba033a6683",
   "metadata": {},
   "outputs": [],
   "source": [
    "book_list"
   ]
  },
  {
   "cell_type": "code",
   "execution_count": null,
   "id": "b7201616-3c70-4000-b592-019e54285729",
   "metadata": {},
   "outputs": [],
   "source": [
    "#return random item of book list\n",
    "book_list[randint(0, len(book_list))]"
   ]
  },
  {
   "cell_type": "code",
   "execution_count": null,
   "id": "2f2659a4-d6f7-47b5-8d95-89bd7cff8210",
   "metadata": {},
   "outputs": [],
   "source": [
    "help(randint)"
   ]
  },
  {
   "cell_type": "code",
   "execution_count": null,
   "id": "3e6c116c-c87f-4d8e-aeee-4a1fd8f144e0",
   "metadata": {},
   "outputs": [],
   "source": [
    "book_year"
   ]
  },
  {
   "cell_type": "code",
   "execution_count": null,
   "id": "0fa7b21a-06f3-4239-81f2-6b4c83a2227f",
   "metadata": {},
   "outputs": [],
   "source": [
    "#list comprehension\n",
    "[item for item in book_year]"
   ]
  },
  {
   "cell_type": "code",
   "execution_count": null,
   "id": "996fd587-1f9e-4964-9a74-40faec0c2f82",
   "metadata": {},
   "outputs": [],
   "source": [
    "[f\"'{title}' was published in {year}\" for title, year in book_year]"
   ]
  },
  {
   "cell_type": "code",
   "execution_count": null,
   "id": "a2490a47-e580-41e6-82f8-0398f6c7b85c",
   "metadata": {},
   "outputs": [],
   "source": [
    "numbers = [number for number in range(1,10)]\n",
    "numbers"
   ]
  },
  {
   "cell_type": "code",
   "execution_count": null,
   "id": "ac1beb6e-8ae3-462e-8b24-f0cf1ae19b4e",
   "metadata": {},
   "outputs": [],
   "source": [
    "list(range(1,10))"
   ]
  },
  {
   "cell_type": "code",
   "execution_count": null,
   "id": "231a3a9d-f9de-4929-99b8-d598e6bf5f16",
   "metadata": {},
   "outputs": [],
   "source": [
    "numbers"
   ]
  },
  {
   "cell_type": "code",
   "execution_count": null,
   "id": "7d0d0239-f486-4fd8-994a-8d1775186c23",
   "metadata": {},
   "outputs": [],
   "source": [
    "[number**2 for number in range(1,10) if number%2==0]"
   ]
  },
  {
   "cell_type": "code",
   "execution_count": null,
   "id": "c08dbe2e-db5e-4ebb-8446-4d9b55cea44b",
   "metadata": {},
   "outputs": [],
   "source": [
    "[number**2 if number%2==0 else 'odd number' for number in range(1,10)]"
   ]
  },
  {
   "cell_type": "code",
   "execution_count": null,
   "id": "49fa89be-1c64-4a56-90bb-ae8fbda938fb",
   "metadata": {},
   "outputs": [],
   "source": [
    "set(book_list)"
   ]
  },
  {
   "cell_type": "code",
   "execution_count": null,
   "id": "dd671607-df44-47ed-9947-532d606d7cf1",
   "metadata": {},
   "outputs": [],
   "source": [
    "#Nested loops\n",
    "authors = [\"J.K. Rowling\", \"George Orwell\", \"Agatha Christie\"]\n",
    "books = {\n",
    "    \"J.K. Rowling\": [\"Harry Potter and the Philosopher's Stone\", \"Harry Potter and the Chamber of Secrets\"],\n",
    "    \"George Orwell\": set(book_list),\n",
    "    \"Agatha Christie\": [\"Murder on the Orient Express\", \"The Mystery of the Blue Train\"]\n",
    "}\n",
    "\n",
    "for author in authors:\n",
    "    for book in books[author]:\n",
    "        print(f\"Author: {author}, Book: {book}\")\n"
   ]
  },
  {
   "cell_type": "code",
   "execution_count": 28,
   "id": "4b670c6f-96ee-4e99-8c84-344cce6c545e",
   "metadata": {},
   "outputs": [
    {
     "data": {
      "text/plain": [
       "'/Users/default/Downloads'"
      ]
     },
     "execution_count": 28,
     "metadata": {},
     "output_type": "execute_result"
    }
   ],
   "source": [
    "#input/output files\n",
    "%pwd"
   ]
  },
  {
   "cell_type": "code",
   "execution_count": 29,
   "id": "fb74f2f3-bb97-4a5f-8dbc-2167ce263ccb",
   "metadata": {},
   "outputs": [],
   "source": [
    "%pinfo book_list"
   ]
  },
  {
   "cell_type": "code",
   "execution_count": 30,
   "id": "c4f3e456-9156-4830-8c98-e1be41a06cce",
   "metadata": {},
   "outputs": [
    {
     "name": "stdout",
     "output_type": "stream",
     "text": [
      "Writing test.txt\n"
     ]
    }
   ],
   "source": [
    "%%writefile test.txt\n",
    "does this work?\n",
    "let's see?"
   ]
  },
  {
   "cell_type": "code",
   "execution_count": null,
   "id": "510638ea-5364-45a0-bd91-5e67fd2f933a",
   "metadata": {},
   "outputs": [],
   "source": [
    "help(open)"
   ]
  },
  {
   "cell_type": "code",
   "execution_count": 31,
   "id": "7855786f-08b1-40cd-b21d-e7d9be706628",
   "metadata": {},
   "outputs": [
    {
     "data": {
      "text/plain": [
       "\"does this work?\\nlet's see?\\n\""
      ]
     },
     "execution_count": 31,
     "metadata": {},
     "output_type": "execute_result"
    }
   ],
   "source": [
    "myfile = open('test.txt')\n",
    "myfile.read()"
   ]
  },
  {
   "cell_type": "code",
   "execution_count": 32,
   "id": "40157cad-3c48-4793-8b39-68082b38e699",
   "metadata": {},
   "outputs": [
    {
     "data": {
      "text/plain": [
       "''"
      ]
     },
     "execution_count": 32,
     "metadata": {},
     "output_type": "execute_result"
    }
   ],
   "source": [
    "myfile.read()"
   ]
  },
  {
   "cell_type": "code",
   "execution_count": 33,
   "id": "07b7ab80-8c8c-4801-aa64-1840b3094671",
   "metadata": {},
   "outputs": [
    {
     "data": {
      "text/plain": [
       "0"
      ]
     },
     "execution_count": 33,
     "metadata": {},
     "output_type": "execute_result"
    }
   ],
   "source": [
    "myfile.seek(0)"
   ]
  },
  {
   "cell_type": "code",
   "execution_count": 34,
   "id": "7a0cdd4a-935e-43e4-9cde-3762a29c6af2",
   "metadata": {},
   "outputs": [
    {
     "data": {
      "text/plain": [
       "['does this work?\\n', \"let's see?\\n\"]"
      ]
     },
     "execution_count": 34,
     "metadata": {},
     "output_type": "execute_result"
    }
   ],
   "source": [
    "myfile.readlines()"
   ]
  },
  {
   "cell_type": "code",
   "execution_count": 35,
   "id": "2cb62b1b-32ba-423f-b947-8e0710c0d5b8",
   "metadata": {},
   "outputs": [],
   "source": [
    "myfile.close()"
   ]
  },
  {
   "cell_type": "code",
   "execution_count": null,
   "id": "ed1d568b-942c-4978-9b43-130e95edbd68",
   "metadata": {},
   "outputs": [],
   "source": [
    "myfile.readlines()"
   ]
  }
 ],
 "metadata": {
  "kernelspec": {
   "display_name": "Python 3 (ipykernel)",
   "language": "python",
   "name": "python3"
  },
  "language_info": {
   "codemirror_mode": {
    "name": "ipython",
    "version": 3
   },
   "file_extension": ".py",
   "mimetype": "text/x-python",
   "name": "python",
   "nbconvert_exporter": "python",
   "pygments_lexer": "ipython3",
   "version": "3.11.5"
  }
 },
 "nbformat": 4,
 "nbformat_minor": 5
}
