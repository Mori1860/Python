{
 "cells": [
  {
   "cell_type": "markdown",
   "id": "545f369a-98f5-4a77-930f-bebc2a940c01",
   "metadata": {},
   "source": [
    "### Exercise 1 :\n",
    "Given a list of numbers, calculate the sum of the numbers until a negative number is encountered, using two methods:\n",
    "\n",
    "**a.** Use `break` to exit a `for` loop early once a negative number is detected.\n",
    "\n",
    "**b.** Use a `while` loop.\n",
    "\n",
    "**Example**\n",
    "\n",
    "**Input**:\n",
    "```numbers = [5,4,10,-2,12,8]```\n",
    "\n",
    "**Output**: `19`"
   ]
  },
  {
   "cell_type": "code",
   "execution_count": null,
   "id": "5d93a244-dc20-44bc-ad66-3f1a0cfdf52b",
   "metadata": {},
   "outputs": [],
   "source": [
    "numbers = [5,4,10,-2,12,8]\n",
    "numbers_sum = 0\n",
    "for num in numbers:\n",
    "    if num < 0:\n",
    "        break\n",
    "    numbers_sum += num\n",
    "print(numbers_sum) \n"
   ]
  },
  {
   "cell_type": "code",
   "execution_count": null,
   "id": "08bff35c-35f7-47bd-8145-03a7e1270da1",
   "metadata": {},
   "outputs": [],
   "source": [
    "numbers = [5,4,10,-2,12,8]\n",
    "numbers_sum = 0\n",
    "index = 0\n",
    "\n",
    "while (index < len(numbers)) and (numbers[index] >= 0) :\n",
    "    numbers_sum += numbers[index]\n",
    "    index += 1\n",
    "    \n",
    "print(numbers_sum)"
   ]
  },
  {
   "cell_type": "markdown",
   "id": "1338eaf8-95c0-4443-b114-b806228285d0",
   "metadata": {},
   "source": [
    "### Exercise 2 :\n",
    "\n",
    "Given a list of numbers, calculate the product of all odd numbers. Use `continue` to skip even numbers.\n",
    "\n",
    "**Example**\n",
    "\n",
    "**Input**:\n",
    "```numbers = [5,4,3,6,1,0]```\n",
    "\n",
    "**Output**: `15`"
   ]
  },
  {
   "cell_type": "code",
   "execution_count": null,
   "id": "01b18a68-1ad9-4536-9ecf-ec9678d5d915",
   "metadata": {},
   "outputs": [],
   "source": [
    "numbers = [5,4,3,6,1,0]\n",
    "product = 1\n",
    "for num in numbers:\n",
    "    if num % 2 == 0:\n",
    "        continue\n",
    "    product *= num\n",
    "print(product)  \n"
   ]
  },
  {
   "cell_type": "markdown",
   "id": "ca7a7130-ff1c-4787-889e-df6b96790599",
   "metadata": {},
   "source": [
    "\n",
    "### Exercise 3 : \n",
    "\n",
    "Write a program that calculates how many years it will take for a sum of money to grow to a target amount at a given yearly compound interest rate. **Hint**: Use a `while` loop.\n",
    "\n",
    "**Example**\n",
    "\n",
    "**Input**:\n",
    "- yearly interest rate: 5%\n",
    "- initial investment: 1000 EUR\n",
    "- target sum: 1200 EUR\n",
    "\n",
    "**Output**:\n",
    "It will take 4 years to reach the target of 1200 EUR for an initial investment of 1000 EUR with an interest rate of 5%.\n"
   ]
  },
  {
   "cell_type": "code",
   "execution_count": null,
   "id": "04d923ea-076f-4406-8ea7-fd7bd601c6e2",
   "metadata": {},
   "outputs": [],
   "source": [
    "initial = 1000\n",
    "target = 1200\n",
    "rate = 0.05\n",
    "\n",
    "years = 0\n",
    "\n",
    "while initial < target:\n",
    "    initial += initial * rate\n",
    "    years += 1\n",
    "\n",
    "print(f\"It will take {years} years to reach the target amount.\")\n"
   ]
  },
  {
   "cell_type": "markdown",
   "id": "3b82e2c7-58b0-41f3-a3a7-8637a9eb7edd",
   "metadata": {},
   "source": [
    "### Exercise 4 : \n",
    "Write a program that generates and prints a multiplication table pattern. The user should input the number of rows they want in the pattern. Each row of the pattern should represent the multiplication table for that row number. Row number should be between 2 and 9. \n",
    "**Hint**: use nested loops.\n",
    "\n",
    "**Example**\n",
    "\n",
    "**Input**:\n",
    "``rows = 4``\n",
    "\n",
    "**Output**:\n",
    "```\n",
    "1\t\n",
    "2\t4\t\n",
    "3\t6\t9\t\n",
    "4\t8\t12\t16\n",
    "```\n",
    "\n",
    "\n",
    "\n"
   ]
  },
  {
   "cell_type": "code",
   "execution_count": null,
   "id": "ee345ec8-ec43-4291-b2d4-8fa1015ea78d",
   "metadata": {},
   "outputs": [],
   "source": [
    "rows = 4\n",
    "for i in range(1, rows + 1):\n",
    "    for j in range(1, i + 1):\n",
    "        # multiplication current column and row\n",
    "        product = i * j\n",
    "        print(i * j, end='  ')\n",
    "    print()"
   ]
  },
  {
   "cell_type": "markdown",
   "id": "2b51cfc6-f4e5-4eee-b32b-936a7a449f57",
   "metadata": {},
   "source": [
    "### Exercise 5 : \n",
    "Given an ordered list of Consumer Price Index (CPI) values over several years, calculate the annual inflation rates, i.e. the rate of increase in CPI between two consecutive years. Round the inflation rates to 2 decimal points. **Hint:** Use `range` and a `for` loop. \n",
    "\n",
    "**Input**:\n",
    "``cpi_values = [100, 105, 112]``\n",
    "\n",
    "**Output**:\n",
    "``\n",
    "inflation_rates= [5, 6.7]\n",
    "``"
   ]
  },
  {
   "cell_type": "code",
   "execution_count": null,
   "id": "939d007b-c269-449d-90e2-ca8b5d7e7f18",
   "metadata": {},
   "outputs": [],
   "source": [
    "cpi_values = [100, 105, 110, 112, 116]\n",
    "inflation_rates = []\n",
    "for i in range(1, len(cpi_values)):\n",
    "    inflation_rate = (cpi_values[i] - cpi_values[i-1]) / cpi_values[i-1] * 100\n",
    "    inflation_rates.append(round(inflation_rate,2))\n",
    "inflation_rates"
   ]
  },
  {
   "cell_type": "markdown",
   "id": "5943ba94-ce69-4a27-922d-6f65cea04a05",
   "metadata": {},
   "source": [
    "### Exercise 6 :\n",
    "Given two lists, one with the number of employed persons and the other with the number of unemployed persons for several years, calculate the unemployment rate for each year. We assume that the input lists are chronologically ordered. **Hint:** Use `zip` and a `for` loop.\n",
    "\n",
    "**Example**\n",
    "\n",
    "**Input**:\n",
    "```\n",
    "employed = [900, 1200, 1750]\n",
    "\n",
    "unemployed = [100, 300, 250]\n",
    "```\n",
    "\n",
    "**Output**:\n",
    "```\n",
    "unemployment_rates = [10, 20, 12.5]\n",
    "```"
   ]
  },
  {
   "cell_type": "code",
   "execution_count": null,
   "id": "939522a5-8359-41d8-8eb8-7a44afaa749d",
   "metadata": {},
   "outputs": [],
   "source": [
    "employed = [900, 1200, 1750]\n",
    "unemployed = [100, 300, 250]\n",
    "\n",
    "unemployment_rates = []\n",
    "for e, u in zip(employed, unemployed):\n",
    "    unemployment_rate = (u / (e + u)) * 100\n",
    "    unemployment_rates.append(unemployment_rate)\n",
    "\n",
    "unemployment_rates\n"
   ]
  },
  {
   "cell_type": "markdown",
   "id": "6611be3d-c413-43e2-8f30-24db1dbaa2af",
   "metadata": {},
   "source": [
    "### Exercise 7 : \n",
    "\n",
    "Given a list of European capitals:\n",
    "```python\n",
    "capitals = [\"Paris\", \"London\", \"Berlin\", \"Rome\", \"Madrid\", \"Lisbon\", \"Warsaw\", \"Vienna\", \"Prague\", \"Athens\", \"Prague\", \"Berlin\", \"London\"]\n",
    "```\n",
    "\n",
    "Using `enumerate` and loops, find and print the indices of all occurrences of the capitals \"Prague\" and \"Berlin\".\n",
    "\n"
   ]
  },
  {
   "cell_type": "code",
   "execution_count": null,
   "id": "9b4bab1e-2684-491d-bc7b-56cf3add0f02",
   "metadata": {},
   "outputs": [],
   "source": [
    "capitals = [\"Paris\", \"London\", \"Berlin\", \"Rome\", \"Madrid\", \"Lisbon\", \"Warsaw\", \"Vienna\", \"Prague\", \"Athens\", \"Prague\", \"Berlin\", \"London\"]\n",
    "\n",
    "prague_indices = []\n",
    "berlin_indices = []\n",
    "\n",
    "for idx, capital in enumerate(capitals):\n",
    "    if capital == \"Prague\":\n",
    "        prague_indices.append(idx)\n",
    "    elif capital == \"Berlin\":\n",
    "        berlin_indices.append(idx)\n",
    "\n",
    "print(f\"The capital 'Prague' occurs at indices: {prague_indices}\")\n",
    "print(f\"The capital 'Berlin' occurs at indices: {berlin_indices}\")\n"
   ]
  },
  {
   "cell_type": "markdown",
   "id": "c1ad8a5c-5023-461b-9bcd-8475810c8fa4",
   "metadata": {},
   "source": [
    "### Exercise 8 :\n",
    "Using list comprehension, create a list of all numbers between 1 and 100 that end with the digit 5."
   ]
  },
  {
   "cell_type": "code",
   "execution_count": null,
   "id": "9aec9953-0903-4c87-a8c1-a68aab76c7c5",
   "metadata": {},
   "outputs": [],
   "source": [
    "nums_ending_with_5 = [num for num in range(1, 101) if str(num)[-1] == '5']\n",
    "nums_ending_with_5"
   ]
  },
  {
   "cell_type": "markdown",
   "id": "7546f020-7431-48b7-88b0-180515d34040",
   "metadata": {},
   "source": [
    "### Exercise 9 :\n",
    "Using list comprehension and given a list of strings, generate a new list containing only the strings that have more than 5 characters."
   ]
  },
  {
   "cell_type": "code",
   "execution_count": null,
   "id": "d4d3e158-85ec-482a-834c-ce597eb2f63c",
   "metadata": {},
   "outputs": [],
   "source": [
    "names = [\"Amy\", \"Barbara\", \"Charlie\", \"Dave\", \"Elaine\", \"Frank\", \"George\", \"Hank\", \"Ian\", \"Jerry\"]\n",
    "long_names = [name for name in names if len(name) > 5]\n",
    "long_names"
   ]
  },
  {
   "cell_type": "markdown",
   "id": "a456c91b-6ce4-42ea-a941-f6aa9792c8a0",
   "metadata": {},
   "source": [
    "### Exercise 10 :\n",
    "\n",
    "Given a list of numbers:  ``scores = [78, 85, 90, 56, 65, 72, 88, 79, 60, 82]``:\n",
    "\n",
    "1. Create a new text file named `data.txt`.\n",
    "2. Write the following numbers, each on a new line: `78, 85, 90, 56, 65, 72, 88, 79, 60, 82`.\n",
    "3. Close the file.\n",
    "4. Open and read the file, then print its content.\n",
    "\n",
    "**Hints:**\n",
    "- Use `.read()`, `.write()` methods for file operations.\n",
    "- Remember to close the file after you're done with it.\n",
    "\n"
   ]
  },
  {
   "cell_type": "code",
   "execution_count": null,
   "id": "f195fe22-c1ee-405c-bcc9-24b9e2324cba",
   "metadata": {},
   "outputs": [],
   "source": [
    "# Step 1: Create a new text file named `data.txt`.\n",
    "file = open(\"data.txt\", \"w\")\n",
    "\n",
    "# Step 2: Write the numbers, each on a new line.\n",
    "numbers = [78, 85, 90, 56, 65, 72, 88, 79, 60, 82]\n",
    "\n",
    "for number in numbers:\n",
    "    file.write(str(number) + \"\\n\")\n",
    "\n",
    "# Step 3: Close the file.\n",
    "file.close()\n",
    "\n",
    "# Step 4: Open and read the file, then print its content.\n",
    "file = open(\"data.txt\", \"r\")\n",
    "content = file.read()\n",
    "print(\"Numbers from data.txt:\")\n",
    "print(content)\n",
    "file.close()\n"
   ]
  }
 ],
 "metadata": {
  "kernelspec": {
   "display_name": "Python 3",
   "language": "python",
   "name": "python3"
  },
  "language_info": {
   "codemirror_mode": {
    "name": "ipython",
    "version": 3
   },
   "file_extension": ".py",
   "mimetype": "text/x-python",
   "name": "python",
   "nbconvert_exporter": "python",
   "pygments_lexer": "ipython3",
   "version": "3.7.12"
  }
 },
 "nbformat": 4,
 "nbformat_minor": 5
}
